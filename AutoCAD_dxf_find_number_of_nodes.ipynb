{
 "cells": [
  {
   "cell_type": "code",
   "execution_count": 1,
   "metadata": {},
   "outputs": [],
   "source": [
    "# pip install ezdxf"
   ]
  },
  {
   "cell_type": "code",
   "execution_count": 2,
   "metadata": {},
   "outputs": [],
   "source": [
    "# Import the required python libraries\n",
    "import sys\n",
    "import ezdxf\n",
    "import pandas as pd\n",
    "import numpy as np\n",
    "import ezdxf\n",
    "\n",
    "import warnings\n",
    "warnings.filterwarnings('ignore')"
   ]
  },
  {
   "cell_type": "code",
   "execution_count": 3,
   "metadata": {},
   "outputs": [],
   "source": [
    "# Set the AutoCAD input file path\n",
    "InputFilePath = r'E:\\AutoCAD-analytical-geometry\\AutoCAD_input_file.dxf'"
   ]
  },
  {
   "cell_type": "code",
   "execution_count": 4,
   "metadata": {},
   "outputs": [
    {
     "name": "stdout",
     "output_type": "stream",
     "text": [
      "Number of nodes in the input AutoCAD dxf file: 147\n"
     ]
    }
   ],
   "source": [
    "# Load the AutoCAD file\n",
    "AutocadDxfDoc = ezdxf.readfile(InputFilePath)\n",
    "\n",
    "# Load the Model Space\n",
    "ModelSpace = AutocadDxfDoc.modelspace()\n",
    "\n",
    "# Load the LINE entity\n",
    "Lines = ModelSpace.query('LINE')\n",
    "\n",
    "# Get all the start and end points of the lines\n",
    "P1List, P2List = [], []\n",
    "for Line in Lines:\n",
    "    P1List.append(Line.dxf.start)\n",
    "    P2List.append(Line.dxf.end)\n",
    "\n",
    "# Load the all the start and end points into Pandas data frame\n",
    "df = pd.concat(([pd.DataFrame(P1List), pd.DataFrame(P2List)]))\n",
    "\n",
    "# Round the x1, y1, z1, x2, y2, z2 with 2 digits.\n",
    "df = np.round(df, 2)\n",
    "\n",
    "# Remove the duplicate points\n",
    "df = df.drop_duplicates()\n",
    "\n",
    "# Print the result: df.shape[0]\n",
    "print (f'Number of nodes in the input AutoCAD dxf file: {df.shape[0]}')"
   ]
  },
  {
   "cell_type": "code",
   "execution_count": null,
   "metadata": {},
   "outputs": [],
   "source": []
  }
 ],
 "metadata": {
  "kernelspec": {
   "display_name": "Python 3.7.6 ('abhishek_ml')",
   "language": "python",
   "name": "python3"
  },
  "language_info": {
   "codemirror_mode": {
    "name": "ipython",
    "version": 3
   },
   "file_extension": ".py",
   "mimetype": "text/x-python",
   "name": "python",
   "nbconvert_exporter": "python",
   "pygments_lexer": "ipython3",
   "version": "3.7.6"
  },
  "orig_nbformat": 4,
  "vscode": {
   "interpreter": {
    "hash": "5a0cf7bf979b2047ce1b548a7a6ed482703a867ed3784b34b2a3597ae3ef25e0"
   }
  }
 },
 "nbformat": 4,
 "nbformat_minor": 2
}
