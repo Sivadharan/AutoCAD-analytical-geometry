{
 "cells": [
  {
   "cell_type": "markdown",
   "metadata": {},
   "source": [
    "Input Required: AutoCAD Dxf drawing that has multiple lines connecting each other and forming geometric pattern of triangles, quadrilaterals.\n",
    "\n",
    "Output: AutoCAD Dxf drawing with 3DFace entity (a three-sided or four-sided surface in 3D space)\n",
    "\n",
    "Note: As a 3DFace can have clockwise or anti-clockwise direction, user has to draw only one 3DFace in the input drawing, so that algorithm will refer that 3DFace and generate all the remaining 3DFaces in the same direction.\n",
    "\n",
    "Usage:\n",
    "\n",
    "    1. As this converts the edges into surface, this can be used and further enhanced to identify the painting area or can derive the number/size of steel plates/glasses that is going to fit into that.\n",
    "\n",
    "    2. Getting 3DFace entity can also be an intermediate step for getting manageable amount of small and detailed drawing from full model.\n",
    "\n",
    "Sincere thanks to Pradeep Hebbar for bringing up the idea of this automation work since we had seen the complexity and time consumption of manually drawing up the 3DFace from line geometry."
   ]
  },
  {
   "cell_type": "code",
   "execution_count": 60,
   "metadata": {},
   "outputs": [],
   "source": [
    "# Set the AutoCAD input file path\n",
    "InputDxfFilepath = r'E:\\AutoCAD-analytical-geometry\\AutoCAD_input_file.dxf'\n",
    "OutputDxfFilepath = r'E:\\AutoCAD-analytical-geometry\\AutoCAD_output_file.dxf'\n",
    "RoundToDecimal = 2"
   ]
  },
  {
   "cell_type": "code",
   "execution_count": 61,
   "metadata": {},
   "outputs": [],
   "source": [
    "# pip install ezdxf"
   ]
  },
  {
   "cell_type": "code",
   "execution_count": 62,
   "metadata": {},
   "outputs": [],
   "source": [
    "# Import the required python libraries\n",
    "import sys\n",
    "import ezdxf\n",
    "import pandas as pd\n",
    "import numpy as np\n",
    "\n",
    "import warnings\n",
    "warnings.filterwarnings('ignore')"
   ]
  },
  {
   "cell_type": "code",
   "execution_count": 63,
   "metadata": {},
   "outputs": [],
   "source": [
    "# ThreeDFace class to hold list of 3 or 4 geometry points (NodeIds).\n",
    "# i.e, NodeIds = [[x1, y1, z1], [x2, y2, z2], [x3, y3, z3]]\n",
    "# or NodeIds = [[x1, y1, z1], [x2, y2, z2], [x3, y3, z3], [x4, y4, z4]]\n",
    "\n",
    "# ThreeDFaceBuilder class will hold NodeIds and also will hold some properties and functions to build ThreeDFace.\n",
    "\n",
    "class ThreeDFace:\n",
    "    NodeIds = []\n",
    "class ThreeDFaceBuilder:\n",
    "    NodeIds = []\n",
    "    def __GetLastPnt(self):\n",
    "        return self.NodeIds[-1] if len(self.NodeIds) > 0 else ''\n",
    "    LastPnt = property(__GetLastPnt)\n",
    "    def __PreLastPnt(self):\n",
    "        return self.NodeIds[-2] if len(self.NodeIds) > 1 else ''\n",
    "    PreLastPnt = property(__PreLastPnt)\n",
    "    def __GetFaceComplete(self):\n",
    "        return self.NodeIds[0] == self.NodeIds[-1] if len(self.NodeIds) >= 4 else False \n",
    "    FaceComplete = property(__GetFaceComplete)\n",
    "    def AddNodeId(self, NodeId):\n",
    "        if self.FaceComplete == False:\n",
    "            self.NodeIds.append(NodeId)\n",
    "\n",
    "def GetPreFacePoint(ThreeDFace: ThreeDFace, FaceNode: int):\n",
    "    PreNode = FaceNode - 1\n",
    "    return ThreeDFace.NodeIds[-2] if PreNode == -1 else ThreeDFace.NodeIds[PreNode]\n",
    "\n",
    "def IsSameLine(Line1, Line2):\n",
    "    return (Line1[0] == Line2[0]) & (Line1[1] == Line2[1]) | (Line1[0] == Line2[1]) & (Line1[1] == Line2[0])\n",
    "\n",
    "def PointInLine(Line, Pnt):\n",
    "    return Line.count(Pnt) > 0\n",
    "\n",
    "def AnotherPointInLine(Line, Pnt):\n",
    "    return Line[0] if Pnt == Line[1] else Line[1]\n",
    "\n",
    "def GetLineId(node1_id: str, node2_id: str):\n",
    "    return node1_id + '_' + node2_id if node1_id < node2_id else node2_id + '_' + node1_id"
   ]
  },
  {
   "cell_type": "code",
   "execution_count": 64,
   "metadata": {},
   "outputs": [],
   "source": [
    "# Read AutoCAD file\n",
    "try:\n",
    "    AutocadDxfDoc = ezdxf.readfile(InputDxfFilepath)\n",
    "except IOError:\n",
    "    print(f'Not a DXF file or a generic I/O error.')\n",
    "    sys.exit(1)\n",
    "except ezdxf.DXFStructureError:\n",
    "    print(f'Invalid or corrupted DXF file.')\n",
    "    sys.exit(2)"
   ]
  },
  {
   "cell_type": "code",
   "execution_count": 65,
   "metadata": {},
   "outputs": [],
   "source": [
    "# Extract lines from AutoCAD model.\n",
    "ModelSpace = AutocadDxfDoc.modelspace()\n",
    "Lines = ModelSpace.query('LINE')\n",
    "P1List, P2List = [], []\n",
    "for Line in Lines:\n",
    "    P1List.append(Line.dxf.start)\n",
    "    P2List.append(Line.dxf.end)"
   ]
  },
  {
   "cell_type": "code",
   "execution_count": 66,
   "metadata": {},
   "outputs": [],
   "source": [
    "# Make a Pandas dataframe to hold the coordinates for the extracted lines.\n",
    "LinesColumnCaptionList = ['x1', 'y1', 'z1', 'x2', 'y2', 'z2']\n",
    "AllLinesDf = pd.concat([pd.DataFrame(P1List), pd.DataFrame(P2List)], axis = 1)\n",
    "AllLinesDf.columns = LinesColumnCaptionList\n",
    "AllLinesDf = pd.concat([AllLinesDf, pd.DataFrame(np.round(AllLinesDf, RoundToDecimal))], axis = 1)\n",
    "for i in range(0, len(LinesColumnCaptionList)):\n",
    "    AllLinesDf.columns.values[len(LinesColumnCaptionList) + i] = 'rounded_' + LinesColumnCaptionList[i]"
   ]
  },
  {
   "cell_type": "code",
   "execution_count": 67,
   "metadata": {},
   "outputs": [],
   "source": [
    "# Make a Pandas dataframe to hold the coordinates for the two points of the extracted lines.\n",
    "# Set node_id for unique identification of a point.\n",
    "\n",
    "PointsColumnCaptionList = ['x', 'y', 'z', 'node_x', 'node_y', 'node_z']\n",
    "P1List = AllLinesDf[['x1', 'y1', 'z1', 'rounded_x1', 'rounded_y1', 'rounded_z1']]\n",
    "P2List = AllLinesDf[['x2', 'y2', 'z2', 'rounded_x2', 'rounded_y2', 'rounded_z2']]\n",
    "AllPointsDf = pd.concat([pd.DataFrame(P1List[:].values), pd.DataFrame(P2List[:].values)], axis = 0)\n",
    "AllPointsDf.columns = PointsColumnCaptionList\n",
    "AllPointsDf = AllPointsDf.drop_duplicates(['node_x', 'node_y', 'node_z'], keep = 'first')\n",
    "AllPointsDf = AllPointsDf.reset_index(drop=True)\n",
    "AllPointsDf['node_id'] = AllPointsDf.index\n",
    "AllPointsDf['node_id'] = AllPointsDf['node_id'].apply(lambda x: 'P' + str(x))"
   ]
  },
  {
   "cell_type": "code",
   "execution_count": 68,
   "metadata": {},
   "outputs": [],
   "source": [
    "# Set line_id for unique identification of a line.\n",
    "# Drop duplicate lines if any.\n",
    "# For example if Line1 is start point is p1 and end point is p2, \n",
    "# if Line2 is start point is p2 and end point is p1 then both are duplicate lines and one of them can be dropped.\n",
    "\n",
    "AllLinesDf = AllLinesDf.merge(AllPointsDf, how='left', left_on = ['rounded_x1', 'rounded_y1', 'rounded_z1'], \\\n",
    "                                                      right_on = ['node_x', 'node_y', 'node_z'])\n",
    "AllLinesDf = AllLinesDf.drop(PointsColumnCaptionList, axis = 1)\n",
    "AllLinesDf = AllLinesDf.rename(columns={'node_id' : 'node1_id'})\n",
    "\n",
    "AllLinesDf = AllLinesDf.merge(AllPointsDf, how='left', left_on = ['rounded_x2', 'rounded_y2', 'rounded_z2'], \\\n",
    "                                                      right_on = ['node_x', 'node_y', 'node_z'])\n",
    "AllLinesDf = AllLinesDf.drop(PointsColumnCaptionList, axis = 1)\n",
    "AllLinesDf = AllLinesDf.rename(columns={'node_id' : 'node2_id'})\n",
    "\n",
    "AllLinesDf['line_id'] = AllLinesDf.apply(lambda x: GetLineId(x['node1_id'], x['node2_id']), axis=1)\n",
    "AllLinesDf = AllLinesDf.drop_duplicates('line_id')"
   ]
  },
  {
   "cell_type": "code",
   "execution_count": 69,
   "metadata": {},
   "outputs": [],
   "source": [
    "# Fetch the given ThreeDFaceModelPoint from the input file.\n",
    "# This sample 3DFace is used to determine the clockwise or anti-clockwise direction.\n",
    "# The algorithm will refer this 3DFace and generate all the remaining 3DFaces in the same direction.\n",
    "\n",
    "ThreeDFaceModelList =  ModelSpace.query('3DFACE')\n",
    "ThreeDFaceModelPoint = []\n",
    "ThreeDFaceModelPoint.append(np.round(ThreeDFaceModelList[0].dxf.vtx0, RoundToDecimal))\n",
    "ThreeDFaceModelPoint.append(np.round(ThreeDFaceModelList[0].dxf.vtx1, RoundToDecimal))\n",
    "ThreeDFaceModelPoint.append(np.round(ThreeDFaceModelList[0].dxf.vtx2, RoundToDecimal))\n",
    "ThreeDFaceModelPoint.append(np.round(ThreeDFaceModelList[0].dxf.vtx3, RoundToDecimal))"
   ]
  },
  {
   "cell_type": "code",
   "execution_count": 70,
   "metadata": {},
   "outputs": [],
   "source": [
    "# Get ThreeDFace class object from the ThreeDFaceModelPoint.\n",
    "InputThreeDFace = ThreeDFace()\n",
    "InputThreeDFace.NodeIds = []\n",
    "for i in range(0, 4):\n",
    "    aPoint = AllPointsDf[(AllPointsDf.node_x == ThreeDFaceModelPoint[i][0]) & \\\n",
    "                         (AllPointsDf.node_y == ThreeDFaceModelPoint[i][1]) & \\\n",
    "                         (AllPointsDf.node_z == ThreeDFaceModelPoint[i][2])]\n",
    "    InputThreeDFace.NodeIds.append(aPoint.iloc[0].loc['node_id'])"
   ]
  },
  {
   "cell_type": "code",
   "execution_count": 71,
   "metadata": {},
   "outputs": [],
   "source": [
    "# NodeOnlyLinesList is sub-set of AllLinesDf to hold only the node-ids not coordinates.\n",
    "# DeletedLineList to hold DeletedLines. We keep deleting lines once we build corresponding ThreeDFace\n",
    "# or otherwise, algorithm will keep building duplicate ThreeDFace.\n",
    "# ThreeDFaceFinalList  to hold the output ThreeDFace list.\n",
    "\n",
    "NodeOnlyLinesList = AllLinesDf[['node1_id', 'node2_id', 'line_id']]\n",
    "DeletedLineList = []\n",
    "ThreeDFaceFinalList = []"
   ]
  },
  {
   "cell_type": "code",
   "execution_count": 72,
   "metadata": {},
   "outputs": [],
   "source": [
    "# Search algorithm that builds ThreeDFaces from the NodeIds.\n",
    "\n",
    "def SearchThreeDFace(aThreeDFace: ThreeDFace):\n",
    "    for FaceNode in range(0, len(aThreeDFace.NodeIds) - 1):\n",
    "        p1 = aThreeDFace.NodeIds[FaceNode + 1]\n",
    "        p2 = aThreeDFace.NodeIds[FaceNode]\n",
    "        BaseLine  = [p1, p2]\n",
    "        ThreeDFaceBuilderInit = ThreeDFaceBuilder()\n",
    "        ThreeDFaceBuilderInit.NodeIds = []\n",
    "        ThreeDFaceBuilderInit.NodeIds.append(p1)\n",
    "        ThreeDFaceBuilderInit.NodeIds.append(p2)\n",
    "        ThreeDFaceBuilderList: list[ThreeDFaceBuilder] = []\n",
    "        ThreeDFaceBuilderList.append(ThreeDFaceBuilderInit)\n",
    "        PreFacePoint = GetPreFacePoint(aThreeDFace, FaceNode)\n",
    "        for i in range(0, 3):\n",
    "            ThreeDFaceBuilderListNew = []\n",
    "            for j in range(0, len(ThreeDFaceBuilderList)):\n",
    "                aThreeDFaceBuilder = ThreeDFaceBuilderList[j]\n",
    "                SubSetLineList = NodeOnlyLinesList[(NodeOnlyLinesList.node1_id == aThreeDFaceBuilder.LastPnt) | \\\n",
    "                                (NodeOnlyLinesList.node2_id == aThreeDFaceBuilder.LastPnt)][:].values\n",
    "                PntBuilderList = []\n",
    "                for CurrLine in SubSetLineList:\n",
    "                     if (IsSameLine(CurrLine, [aThreeDFaceBuilder.LastPnt, aThreeDFaceBuilder.PreLastPnt]) == False) & \\\n",
    "                        (IsSameLine(CurrLine, [aThreeDFaceBuilder.LastPnt, PreFacePoint]) == False):\n",
    "                        PntBuilderList.append(AnotherPointInLine(CurrLine, aThreeDFaceBuilder.LastPnt))\n",
    "                for Pnt in PntBuilderList:\n",
    "                    ThreeDFaceBuilderNew = ThreeDFaceBuilder()\n",
    "                    ThreeDFaceBuilderNew.NodeIds = []\n",
    "                    for BasePnt in aThreeDFaceBuilder.NodeIds:\n",
    "                        ThreeDFaceBuilderNew.AddNodeId(BasePnt)\n",
    "                    ThreeDFaceBuilderNew.AddNodeId(Pnt)   \n",
    "                    ThreeDFaceBuilderListNew.append(ThreeDFaceBuilderNew)\n",
    "            ThreeDFaceBuilderList = ThreeDFaceBuilderListNew\n",
    "        ThreeDFaceBuilderList = filter(lambda x: x.FaceComplete == True, ThreeDFaceBuilderList)        \n",
    "        ThreeDFaceBuilderList = sorted(ThreeDFaceBuilderList, key=lambda x:len(x.NodeIds))    \n",
    "        if len(ThreeDFaceBuilderList) > 0:\n",
    "            aThreeDFaceBuilder = ThreeDFaceBuilderList[0]\n",
    "            DeletedLine = False\n",
    "            for DeletedLines in DeletedLineList:\n",
    "                if (IsSameLine([aThreeDFaceBuilder.NodeIds[0], aThreeDFaceBuilder.NodeIds[2]], DeletedLines) == True) | \\\n",
    "                   (IsSameLine([aThreeDFaceBuilder.NodeIds[1], aThreeDFaceBuilder.NodeIds[3]], DeletedLines) == True):\n",
    "                    DeletedLine = True\n",
    "            if DeletedLine ==  False:\n",
    "                NewThreedFace = ThreeDFace()\n",
    "                NewThreedFace.NodeIds = aThreeDFaceBuilder.NodeIds\n",
    "                ThreeDFaceFinalList.append(NewThreedFace)\n",
    "                DeletedLineList.append(BaseLine)\n",
    "                index_to_delete = NodeOnlyLinesList[(NodeOnlyLinesList['line_id'] == GetLineId(BaseLine[0], BaseLine[1]))].index\n",
    "                NodeOnlyLinesList.drop(index_to_delete, inplace = True)"
   ]
  },
  {
   "cell_type": "code",
   "execution_count": 73,
   "metadata": {},
   "outputs": [],
   "source": [
    "# Add the InputThreeDFace as well to the output.\n",
    "ThreeDFaceFinalList.append(InputThreeDFace)\n",
    "for bThreedFace in ThreeDFaceFinalList:\n",
    "    SearchThreeDFace(bThreedFace)"
   ]
  },
  {
   "cell_type": "code",
   "execution_count": 74,
   "metadata": {},
   "outputs": [],
   "source": [
    "# Save AutoCAD output file with ThreeDFaces.\n",
    "doc = ezdxf.new('R2010')  # create a new DXF R2010 drawing, official DXF version name: 'AC1024'\n",
    "msp = doc.modelspace()  # add new entities to the modelspace\n",
    "cThreeDFace = ThreeDFace()\n",
    "for cThree3Face in ThreeDFaceFinalList:\n",
    "    Vertex = []\n",
    "    for k in range(0, 4):\n",
    "        p = AllPointsDf[AllPointsDf.node_id == cThree3Face.NodeIds[k]][['x', 'y', 'z']].values\n",
    "        Vertex.append(tuple(p[0])) \n",
    "    msp.add_3dface(Vertex)\n",
    "doc.saveas(OutputDxfFilepath)"
   ]
  }
 ],
 "metadata": {
  "kernelspec": {
   "display_name": "Python 3.7.6 ('abhishek_ml')",
   "language": "python",
   "name": "python3"
  },
  "language_info": {
   "codemirror_mode": {
    "name": "ipython",
    "version": 3
   },
   "file_extension": ".py",
   "mimetype": "text/x-python",
   "name": "python",
   "nbconvert_exporter": "python",
   "pygments_lexer": "ipython3",
   "version": "3.7.6"
  },
  "orig_nbformat": 4,
  "vscode": {
   "interpreter": {
    "hash": "5a0cf7bf979b2047ce1b548a7a6ed482703a867ed3784b34b2a3597ae3ef25e0"
   }
  }
 },
 "nbformat": 4,
 "nbformat_minor": 2
}
